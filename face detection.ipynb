{
 "cells": [
  {
   "cell_type": "code",
   "execution_count": 1,
   "metadata": {},
   "outputs": [
    {
     "name": "stdout",
     "output_type": "stream",
     "text": [
      "Populating the interactive namespace from numpy and matplotlib\n"
     ]
    }
   ],
   "source": [
    "% pylab inline\n",
    "import os\n",
    "import random\n",
    "\n",
    "import pandas as pd\n",
    "from scipy.misc import imread"
   ]
  },
  {
   "cell_type": "code",
   "execution_count": 14,
   "metadata": {},
   "outputs": [
    {
     "ename": "FileNotFoundError",
     "evalue": "[Errno 2] No such file or directory: '20900.jpg' -> 'Train/People-000.jpg'",
     "output_type": "error",
     "traceback": [
      "\u001b[0;31m---------------------------------------------------------------------------\u001b[0m",
      "\u001b[0;31mFileNotFoundError\u001b[0m                         Traceback (most recent call last)",
      "\u001b[0;32m<ipython-input-14-e444fe9488a4>\u001b[0m in \u001b[0;36m<module>\u001b[0;34m()\u001b[0m\n\u001b[1;32m      4\u001b[0m \u001b[0;32mfor\u001b[0m \u001b[0mi\u001b[0m\u001b[0;34m,\u001b[0m\u001b[0mfilename\u001b[0m \u001b[0;32min\u001b[0m \u001b[0menumerate\u001b[0m\u001b[0;34m(\u001b[0m\u001b[0mos\u001b[0m\u001b[0;34m.\u001b[0m\u001b[0mlistdir\u001b[0m\u001b[0;34m(\u001b[0m\u001b[0m_src\u001b[0m\u001b[0;34m)\u001b[0m\u001b[0;34m)\u001b[0m\u001b[0;34m:\u001b[0m\u001b[0;34m\u001b[0m\u001b[0m\n\u001b[1;32m      5\u001b[0m     \u001b[0;32mif\u001b[0m \u001b[0mfilename\u001b[0m\u001b[0;34m.\u001b[0m\u001b[0mendswith\u001b[0m\u001b[0;34m(\u001b[0m\u001b[0m_ext\u001b[0m\u001b[0;34m)\u001b[0m\u001b[0;34m:\u001b[0m\u001b[0;34m\u001b[0m\u001b[0m\n\u001b[0;32m----> 6\u001b[0;31m         \u001b[0mos\u001b[0m\u001b[0;34m.\u001b[0m\u001b[0mrename\u001b[0m\u001b[0;34m(\u001b[0m\u001b[0mfilename\u001b[0m\u001b[0;34m,\u001b[0m \u001b[0m_src\u001b[0m\u001b[0;34m+\u001b[0m\u001b[0;34m'People-'\u001b[0m \u001b[0;34m+\u001b[0m \u001b[0mstr\u001b[0m\u001b[0;34m(\u001b[0m\u001b[0mi\u001b[0m\u001b[0;34m)\u001b[0m\u001b[0;34m.\u001b[0m\u001b[0mzfill\u001b[0m\u001b[0;34m(\u001b[0m\u001b[0;36m3\u001b[0m\u001b[0;34m)\u001b[0m\u001b[0;34m+\u001b[0m\u001b[0m_ext\u001b[0m\u001b[0;34m)\u001b[0m\u001b[0;34m\u001b[0m\u001b[0m\n\u001b[0m",
      "\u001b[0;31mFileNotFoundError\u001b[0m: [Errno 2] No such file or directory: '20900.jpg' -> 'Train/People-000.jpg'"
     ]
    }
   ],
   "source": [
    "import os\n",
    "_src = \"Train/\"\n",
    "_ext = \".jpg\"\n",
    "for i,filename in enumerate(os.listdir(_src)):\n",
    "    if filename.endswith(_ext):\n",
    "        os.rename(filename, _src+'People-' + str(i).zfill(3)+_ext)"
   ]
  },
  {
   "cell_type": "code",
   "execution_count": 2,
   "metadata": {
    "collapsed": true
   },
   "outputs": [],
   "source": [
    "root_dir = os.path.abspath('.')"
   ]
  },
  {
   "cell_type": "code",
   "execution_count": 3,
   "metadata": {
    "collapsed": true
   },
   "outputs": [],
   "source": [
    "train=pd.read_csv(os.path.join(root_dir,'train.csv'))\n",
    "test=pd.read_csv(os.path.join(root_dir,'test.csv'))"
   ]
  },
  {
   "cell_type": "code",
   "execution_count": 4,
   "metadata": {},
   "outputs": [
    {
     "name": "stdout",
     "output_type": "stream",
     "text": [
      "Age: OLD\n"
     ]
    }
   ],
   "source": [
    "i = random.choice(train.index)\n",
    "img_name = train.ID[i]\n",
    "img = imread(os.path.join(root_dir, 'Train', img_name),flatten=True)\n",
    "\n",
    "print('Age:', train.Class[i])"
   ]
  },
  {
   "cell_type": "code",
   "execution_count": 5,
   "metadata": {},
   "outputs": [
    {
     "data": {
      "text/plain": [
       "<matplotlib.image.AxesImage at 0x7f56988477b8>"
      ]
     },
     "execution_count": 5,
     "metadata": {},
     "output_type": "execute_result"
    },
    {
     "data": {
      "image/png": "[encoded data removed]",
      "text/plain": [
       "<matplotlib.figure.Figure at 0x7f56cc633d30>"
      ]
     },
     "metadata": {},
     "output_type": "display_data"
    }
   ],
   "source": [
    "imshow(img)"
   ]
  },
  {
   "cell_type": "code",
   "execution_count": 6,
   "metadata": {
    "collapsed": true
   },
   "outputs": [],
   "source": [
    "from scipy.misc import imresize\n",
    "\n",
    "temp = []\n",
    "for img_name in train.ID:\n",
    "    img_path = os.path.join(root_dir, 'Train', img_name)\n",
    "    img = imread(img_path)\n",
    "    img = imresize(img, (64, 64, 1))\n",
    "    img = img.astype('float32') \n",
    "    temp.append(img)\n",
    "\n",
    "train_x = np.stack(temp)"
   ]
  },
  {
   "cell_type": "code",
   "execution_count": 7,
   "metadata": {},
   "outputs": [
    {
     "data": {
      "text/plain": [
       "(19906, 64, 64, 3)"
      ]
     },
     "execution_count": 7,
     "metadata": {},
     "output_type": "execute_result"
    }
   ],
   "source": [
    "train_x.shape"
   ]
  },
  {
   "cell_type": "code",
   "execution_count": 8,
   "metadata": {
    "collapsed": true
   },
   "outputs": [],
   "source": [
    "temp = []\n",
    "for img_name in test.ID:\n",
    "    img_path = os.path.join(root_dir, 'Test', img_name)\n",
    "    img = imread(img_path)\n",
    "    img = imresize(img, (64, 64, 1))\n",
    "    temp.append(img.astype('float32'))\n",
    "\n",
    "test_x = np.stack(temp)"
   ]
  },
  {
   "cell_type": "code",
   "execution_count": 9,
   "metadata": {
    "collapsed": true
   },
   "outputs": [],
   "source": [
    "train_x = train_x / 255.\n",
    "test_x = test_x / 255."
   ]
  },
  {
   "cell_type": "code",
   "execution_count": 10,
   "metadata": {},
   "outputs": [
    {
     "data": {
      "text/plain": [
       "array([[[[ 0.09803922,  0.07843138,  0.0627451 ],\n",
       "         [ 0.09803922,  0.07843138,  0.0627451 ],\n",
       "         [ 0.10196079,  0.08235294,  0.06666667],\n",
       "         ..., \n",
       "         [ 0.10980392,  0.10588235,  0.09019608],\n",
       "         [ 0.10588235,  0.10196079,  0.09411765],\n",
       "         [ 0.10196079,  0.10196079,  0.09411765]],\n",
       "\n",
       "        [[ 0.10980392,  0.09019608,  0.07450981],\n",
       "         [ 0.10588235,  0.09019608,  0.07058824],\n",
       "         [ 0.10196079,  0.09019608,  0.07058824],\n",
       "         ..., \n",
       "         [ 0.10588235,  0.10196079,  0.08627451],\n",
       "         [ 0.10980392,  0.10588235,  0.09411765],\n",
       "         [ 0.10980392,  0.10980392,  0.10196079]],\n",
       "\n",
       "        [[ 0.11764706,  0.10196079,  0.08235294],\n",
       "         [ 0.10980392,  0.09803922,  0.07843138],\n",
       "         [ 0.09803922,  0.09019608,  0.07058824],\n",
       "         ..., \n",
       "         [ 0.10196079,  0.09803922,  0.08235294],\n",
       "         [ 0.10980392,  0.10980392,  0.09803922],\n",
       "         [ 0.11372549,  0.11372549,  0.10588235]],\n",
       "\n",
       "        ..., \n",
       "        [[ 0.58431375,  0.45490196,  0.42745098],\n",
       "         [ 0.58431375,  0.45490196,  0.42745098],\n",
       "         [ 0.58823532,  0.45882353,  0.43137255],\n",
       "         ..., \n",
       "         [ 0.05490196,  0.05098039,  0.02352941],\n",
       "         [ 0.05882353,  0.05882353,  0.03529412],\n",
       "         [ 0.05882353,  0.0627451 ,  0.03921569]],\n",
       "\n",
       "        [[ 0.55686277,  0.42745098,  0.40000001],\n",
       "         [ 0.56078434,  0.43137255,  0.40392157],\n",
       "         [ 0.56470591,  0.43529412,  0.40784314],\n",
       "         ..., \n",
       "         [ 0.05098039,  0.04705882,  0.02745098],\n",
       "         [ 0.05490196,  0.05490196,  0.03137255],\n",
       "         [ 0.05490196,  0.05882353,  0.03529412]],\n",
       "\n",
       "        [[ 0.53725493,  0.40784314,  0.38039216],\n",
       "         [ 0.5411765 ,  0.41176471,  0.38431373],\n",
       "         [ 0.54901963,  0.41960785,  0.39215687],\n",
       "         ..., \n",
       "         [ 0.04705882,  0.05098039,  0.02745098],\n",
       "         [ 0.04705882,  0.05098039,  0.02745098],\n",
       "         [ 0.04705882,  0.05098039,  0.02745098]]],\n",
       "\n",
       "\n",
       "       [[[ 0.03921569,  0.01176471,  0.00784314],\n",
       "         [ 0.03921569,  0.01176471,  0.00392157],\n",
       "         [ 0.04313726,  0.01568628,  0.00784314],\n",
       "         ..., \n",
       "         [ 0.0627451 ,  0.04705882,  0.04313726],\n",
       "         [ 0.07058824,  0.05098039,  0.04705882],\n",
       "         [ 0.0627451 ,  0.03921569,  0.03137255]],\n",
       "\n",
       "        [[ 0.07058824,  0.01568628,  0.        ],\n",
       "         [ 0.08627451,  0.02745098,  0.00784314],\n",
       "         [ 0.10980392,  0.04705882,  0.02352941],\n",
       "         ..., \n",
       "         [ 0.04705882,  0.03137255,  0.02745098],\n",
       "         [ 0.08627451,  0.06666667,  0.0627451 ],\n",
       "         [ 0.08627451,  0.06666667,  0.05490196]],\n",
       "\n",
       "        [[ 0.1254902 ,  0.03921569,  0.00784314],\n",
       "         [ 0.18431373,  0.08627451,  0.04705882],\n",
       "         [ 0.3019608 ,  0.18431373,  0.13725491],\n",
       "         ..., \n",
       "         [ 0.01960784,  0.00784314,  0.00392157],\n",
       "         [ 0.04313726,  0.02745098,  0.02352941],\n",
       "         [ 0.07450981,  0.05490196,  0.04705882]],\n",
       "\n",
       "        ..., \n",
       "        [[ 0.15294118,  0.16862746,  0.17647059],\n",
       "         [ 0.07450981,  0.08627451,  0.09411765],\n",
       "         [ 0.02352941,  0.02745098,  0.03921569],\n",
       "         ..., \n",
       "         [ 0.36470589,  0.16078432,  0.10588235],\n",
       "         [ 0.37254903,  0.17254902,  0.11372549],\n",
       "         [ 0.36862746,  0.16862746,  0.11372549]],\n",
       "\n",
       "        [[ 0.11372549,  0.13333334,  0.13333334],\n",
       "         [ 0.05490196,  0.07058824,  0.07450981],\n",
       "         [ 0.01176471,  0.02352941,  0.03137255],\n",
       "         ..., \n",
       "         [ 0.36862746,  0.16470589,  0.10980392],\n",
       "         [ 0.37254903,  0.17254902,  0.11764706],\n",
       "         [ 0.36862746,  0.17647059,  0.11764706]],\n",
       "\n",
       "        [[ 0.06666667,  0.08627451,  0.08627451],\n",
       "         [ 0.03137255,  0.04705882,  0.05098039],\n",
       "         [ 0.00392157,  0.01568628,  0.02352941],\n",
       "         ..., \n",
       "         [ 0.3882353 ,  0.1882353 ,  0.13333334],\n",
       "         [ 0.3882353 ,  0.19607843,  0.13333334],\n",
       "         [ 0.36470589,  0.1882353 ,  0.1254902 ]]],\n",
       "\n",
       "\n",
       "       [[[ 0.21568628,  0.18039216,  0.23529412],\n",
       "         [ 0.17647059,  0.13725491,  0.1882353 ],\n",
       "         [ 0.16078432,  0.11372549,  0.15686275],\n",
       "         ..., \n",
       "         [ 0.21176471,  0.16862746,  0.15686275],\n",
       "         [ 0.21568628,  0.16078432,  0.16078432],\n",
       "         [ 0.21960784,  0.16470589,  0.16862746]],\n",
       "\n",
       "        [[ 0.21568628,  0.17254902,  0.22745098],\n",
       "         [ 0.1882353 ,  0.14509805,  0.19215687],\n",
       "         [ 0.1882353 ,  0.13725491,  0.18039216],\n",
       "         ..., \n",
       "         [ 0.20392157,  0.16078432,  0.15294118],\n",
       "         [ 0.21568628,  0.15686275,  0.16470589],\n",
       "         [ 0.21568628,  0.15686275,  0.16862746]],\n",
       "\n",
       "        [[ 0.21568628,  0.16862746,  0.21568628],\n",
       "         [ 0.20784314,  0.16078432,  0.19607843],\n",
       "         [ 0.23137255,  0.17254902,  0.21176471],\n",
       "         ..., \n",
       "         [ 0.2       ,  0.15686275,  0.15294118],\n",
       "         [ 0.20784314,  0.14901961,  0.16078432],\n",
       "         [ 0.21176471,  0.15294118,  0.16470589]],\n",
       "\n",
       "        ..., \n",
       "        [[ 0.90980393,  0.90980393,  0.92941177],\n",
       "         [ 0.90196079,  0.90196079,  0.91764706],\n",
       "         [ 0.89019608,  0.88627452,  0.90588236],\n",
       "         ..., \n",
       "         [ 0.28235295,  0.26274511,  0.27450982],\n",
       "         [ 0.26666668,  0.25490198,  0.26274511],\n",
       "         [ 0.26274511,  0.25490198,  0.25882354]],\n",
       "\n",
       "        [[ 0.9137255 ,  0.90980393,  0.92941177],\n",
       "         [ 0.90196079,  0.89803922,  0.91764706],\n",
       "         [ 0.89411765,  0.89019608,  0.90980393],\n",
       "         ..., \n",
       "         [ 0.31764707,  0.29803923,  0.3137255 ],\n",
       "         [ 0.28627452,  0.27843139,  0.28235295],\n",
       "         [ 0.27450982,  0.26666668,  0.27058825]],\n",
       "\n",
       "        [[ 0.90980393,  0.90588236,  0.9254902 ],\n",
       "         [ 0.90196079,  0.89803922,  0.91764706],\n",
       "         [ 0.89411765,  0.89019608,  0.90980393],\n",
       "         ..., \n",
       "         [ 0.41176471,  0.39607844,  0.41176471],\n",
       "         [ 0.32156864,  0.3137255 ,  0.31764707],\n",
       "         [ 0.29411766,  0.28627452,  0.29019609]]],\n",
       "\n",
       "\n",
       "       ..., \n",
       "       [[[ 0.12156863,  0.03921569,  0.01960784],\n",
       "         [ 0.11372549,  0.02745098,  0.00392157],\n",
       "         [ 0.12941177,  0.03529412,  0.01568628],\n",
       "         ..., \n",
       "         [ 0.01176471,  0.01568628,  0.        ],\n",
       "         [ 0.01176471,  0.01568628,  0.        ],\n",
       "         [ 0.01568628,  0.01176471,  0.        ]],\n",
       "\n",
       "        [[ 0.16862746,  0.08235294,  0.0627451 ],\n",
       "         [ 0.15686275,  0.06666667,  0.04313726],\n",
       "         [ 0.18039216,  0.08235294,  0.0627451 ],\n",
       "         ..., \n",
       "         [ 0.01568628,  0.01176471,  0.        ],\n",
       "         [ 0.01568628,  0.01176471,  0.        ],\n",
       "         [ 0.02352941,  0.00784314,  0.        ]],\n",
       "\n",
       "        [[ 0.22745098,  0.13333334,  0.11764706],\n",
       "         [ 0.22745098,  0.13333334,  0.10980392],\n",
       "         [ 0.25098041,  0.15294118,  0.13333334],\n",
       "         ..., \n",
       "         [ 0.01960784,  0.01176471,  0.        ],\n",
       "         [ 0.02352941,  0.00784314,  0.        ],\n",
       "         [ 0.02352941,  0.00784314,  0.        ]],\n",
       "\n",
       "        ..., \n",
       "        [[ 0.63137257,  0.6901961 ,  0.64705884],\n",
       "         [ 0.61960787,  0.67843139,  0.63529414],\n",
       "         [ 0.60784316,  0.66666669,  0.62352943],\n",
       "         ..., \n",
       "         [ 0.1882353 ,  0.06666667,  0.05490196],\n",
       "         [ 0.18039216,  0.05882353,  0.04705882],\n",
       "         [ 0.17647059,  0.05490196,  0.04313726]],\n",
       "\n",
       "        [[ 0.627451  ,  0.69803923,  0.64705884],\n",
       "         [ 0.6156863 ,  0.68627453,  0.63137257],\n",
       "         [ 0.60000002,  0.67450982,  0.61960787],\n",
       "         ..., \n",
       "         [ 0.17254902,  0.05098039,  0.03921569],\n",
       "         [ 0.16470589,  0.04313726,  0.03137255],\n",
       "         [ 0.16078432,  0.03921569,  0.02745098]],\n",
       "\n",
       "        [[ 0.6156863 ,  0.69803923,  0.63921571],\n",
       "         [ 0.60784316,  0.6901961 ,  0.63137257],\n",
       "         [ 0.60000002,  0.67843139,  0.61960787],\n",
       "         ..., \n",
       "         [ 0.15686275,  0.03529412,  0.02352941],\n",
       "         [ 0.14901961,  0.02745098,  0.01568628],\n",
       "         [ 0.14509805,  0.02352941,  0.01176471]]],\n",
       "\n",
       "\n",
       "       [[[ 0.02745098,  0.03529412,  0.02352941],\n",
       "         [ 0.02745098,  0.03529412,  0.02352941],\n",
       "         [ 0.02352941,  0.03137255,  0.01960784],\n",
       "         ..., \n",
       "         [ 0.07450981,  0.08235294,  0.07058824],\n",
       "         [ 0.07450981,  0.08235294,  0.07058824],\n",
       "         [ 0.07450981,  0.08235294,  0.07058824]],\n",
       "\n",
       "        [[ 0.02352941,  0.03137255,  0.01960784],\n",
       "         [ 0.02352941,  0.03137255,  0.01960784],\n",
       "         [ 0.01960784,  0.02745098,  0.01568628],\n",
       "         ..., \n",
       "         [ 0.07450981,  0.08235294,  0.07058824],\n",
       "         [ 0.07450981,  0.08235294,  0.07058824],\n",
       "         [ 0.07450981,  0.08235294,  0.07058824]],\n",
       "\n",
       "        [[ 0.01960784,  0.02745098,  0.01568628],\n",
       "         [ 0.01960784,  0.02745098,  0.01568628],\n",
       "         [ 0.01568628,  0.02352941,  0.01176471],\n",
       "         ..., \n",
       "         [ 0.07450981,  0.08235294,  0.07058824],\n",
       "         [ 0.07450981,  0.08235294,  0.07058824],\n",
       "         [ 0.07450981,  0.08235294,  0.07058824]],\n",
       "\n",
       "        ..., \n",
       "        [[ 0.43921569,  0.44705883,  0.43529412],\n",
       "         [ 0.43921569,  0.44705883,  0.43529412],\n",
       "         [ 0.43529412,  0.44313726,  0.43137255],\n",
       "         ..., \n",
       "         [ 0.36078432,  0.36862746,  0.35686275],\n",
       "         [ 0.35294119,  0.36078432,  0.34901962],\n",
       "         [ 0.34509805,  0.35294119,  0.34117648]],\n",
       "\n",
       "        [[ 0.44705883,  0.45490196,  0.44313726],\n",
       "         [ 0.44705883,  0.45490196,  0.44313726],\n",
       "         [ 0.44313726,  0.4509804 ,  0.43921569],\n",
       "         ..., \n",
       "         [ 0.36862746,  0.3764706 ,  0.36470589],\n",
       "         [ 0.36078432,  0.36862746,  0.35686275],\n",
       "         [ 0.35686275,  0.36470589,  0.35294119]],\n",
       "\n",
       "        [[ 0.4509804 ,  0.45882353,  0.44705883],\n",
       "         [ 0.4509804 ,  0.45882353,  0.44705883],\n",
       "         [ 0.44705883,  0.45490196,  0.44313726],\n",
       "         ..., \n",
       "         [ 0.37254903,  0.38039216,  0.36862746],\n",
       "         [ 0.36470589,  0.37254903,  0.36078432],\n",
       "         [ 0.36078432,  0.36862746,  0.35686275]]],\n",
       "\n",
       "\n",
       "       [[[ 0.25490198,  0.16078432,  0.24705882],\n",
       "         [ 0.25490198,  0.16078432,  0.24705882],\n",
       "         [ 0.26274511,  0.16862746,  0.25490198],\n",
       "         ..., \n",
       "         [ 0.627451  ,  0.49019608,  0.4509804 ],\n",
       "         [ 0.63529414,  0.50196081,  0.46666667],\n",
       "         [ 0.63529414,  0.50196081,  0.46666667]],\n",
       "\n",
       "        [[ 0.26666668,  0.17254902,  0.25882354],\n",
       "         [ 0.26666668,  0.17254902,  0.25882354],\n",
       "         [ 0.27450982,  0.18039216,  0.26666668],\n",
       "         ..., \n",
       "         [ 0.63529414,  0.49411765,  0.45490196],\n",
       "         [ 0.63529414,  0.50196081,  0.4627451 ],\n",
       "         [ 0.63529414,  0.50196081,  0.4627451 ]],\n",
       "\n",
       "        [[ 0.27450982,  0.18431373,  0.26666668],\n",
       "         [ 0.27450982,  0.18431373,  0.26666668],\n",
       "         [ 0.28235295,  0.19215687,  0.27058825],\n",
       "         ..., \n",
       "         [ 0.63529414,  0.49411765,  0.43921569],\n",
       "         [ 0.63137257,  0.49411765,  0.43921569],\n",
       "         [ 0.63137257,  0.49411765,  0.43921569]],\n",
       "\n",
       "        ..., \n",
       "        [[ 0.61176473,  0.38431373,  0.32156864],\n",
       "         [ 0.61176473,  0.38431373,  0.32156864],\n",
       "         [ 0.60784316,  0.38039216,  0.31764707],\n",
       "         ..., \n",
       "         [ 0.66274512,  0.83137256,  0.90196079],\n",
       "         [ 0.64705884,  0.83137256,  0.90196079],\n",
       "         [ 0.64705884,  0.83137256,  0.90196079]],\n",
       "\n",
       "        [[ 0.60392159,  0.38039216,  0.3137255 ],\n",
       "         [ 0.60392159,  0.38039216,  0.3137255 ],\n",
       "         [ 0.60000002,  0.3764706 ,  0.30980393],\n",
       "         ..., \n",
       "         [ 0.65098041,  0.82352942,  0.89803922],\n",
       "         [ 0.63921571,  0.82745099,  0.90588236],\n",
       "         [ 0.63921571,  0.82745099,  0.90588236]],\n",
       "\n",
       "        [[ 0.59215689,  0.36862746,  0.3019608 ],\n",
       "         [ 0.59215689,  0.36862746,  0.3019608 ],\n",
       "         [ 0.58823532,  0.36470589,  0.29803923],\n",
       "         ..., \n",
       "         [ 0.63921571,  0.82352942,  0.89411765],\n",
       "         [ 0.63137257,  0.83137256,  0.90588236],\n",
       "         [ 0.63137257,  0.83137256,  0.90588236]]]], dtype=float32)"
      ]
     },
     "execution_count": 10,
     "metadata": {},
     "output_type": "execute_result"
    }
   ],
   "source": [
    "test_x"
   ]
  },
  {
   "cell_type": "code",
   "execution_count": 11,
   "metadata": {},
   "outputs": [
    {
     "data": {
      "text/plain": [
       "MIDDLE    10804\n",
       "YOUNG      6706\n",
       "OLD        2396\n",
       "Name: Class, dtype: int64"
      ]
     },
     "execution_count": 11,
     "metadata": {},
     "output_type": "execute_result"
    }
   ],
   "source": [
    "train.Class.value_counts()"
   ]
  },
  {
   "cell_type": "code",
   "execution_count": 12,
   "metadata": {},
   "outputs": [
    {
     "name": "stderr",
     "output_type": "stream",
     "text": [
      "Using TensorFlow backend.\n",
      "/usr/local/lib/python3.5/dist-packages/requests/__init__.py:80: RequestsDependencyWarning: urllib3 (1.13.1) or chardet (3.0.4) doesn't match a supported version!\n",
      "  RequestsDependencyWarning)\n"
     ]
    }
   ],
   "source": [
    "import keras\n",
    "from sklearn.preprocessing import LabelEncoder\n",
    "\n",
    "lb = LabelEncoder()\n",
    "train_y = lb.fit_transform(train.Class)"
   ]
  },
  {
   "cell_type": "code",
   "execution_count": null,
   "metadata": {
    "collapsed": true
   },
   "outputs": [],
   "source": []
  },
  {
   "cell_type": "code",
   "execution_count": 13,
   "metadata": {},
   "outputs": [
    {
     "data": {
      "text/plain": [
       "(19906,)"
      ]
     },
     "execution_count": 13,
     "metadata": {},
     "output_type": "execute_result"
    }
   ],
   "source": [
    "train_y.shape"
   ]
  },
  {
   "cell_type": "code",
   "execution_count": 14,
   "metadata": {
    "collapsed": true
   },
   "outputs": [],
   "source": [
    "train_y = keras.utils.np_utils.to_categorical(train_y)"
   ]
  },
  {
   "cell_type": "code",
   "execution_count": 15,
   "metadata": {
    "collapsed": true
   },
   "outputs": [],
   "source": [
    "from keras.models import Sequential\n",
    "from keras.layers import Conv2D\n",
    "from keras.layers import MaxPooling2D\n",
    "from keras.layers import Flatten\n",
    "from keras.layers import Dense"
   ]
  },
  {
   "cell_type": "code",
   "execution_count": 18,
   "metadata": {
    "collapsed": true
   },
   "outputs": [],
   "source": [
    "classifier = Sequential()\n",
    "\n",
    "classifier.add(Conv2D(50, (5, 5), input_shape = (64, 64,3), activation = 'relu'))\n",
    "classifier.add(MaxPooling2D(pool_size = (2, 2)))\n",
    "\n",
    "\n",
    "classifier.add(Conv2D(100, (5, 5), activation = 'relu'))\n",
    "classifier.add(MaxPooling2D(pool_size = (2, 2)))\n",
    "\n",
    "classifier.add(Conv2D(100, (5, 5), activation = 'relu'))\n",
    "\n",
    "classifier.add(Flatten())\n",
    "\n",
    "\n",
    "classifier.add(Dense(units = 128, activation = 'relu'))\n",
    "classifier.add(Dense(units = 3, activation = 'sigmoid'))\n",
    "\n",
    "\n",
    "classifier.compile(optimizer = 'adam', loss = 'categorical_crossentropy', metrics = ['accuracy'])"
   ]
  },
  {
   "cell_type": "code",
   "execution_count": null,
   "metadata": {},
   "outputs": [
    {
     "name": "stderr",
     "output_type": "stream",
     "text": [
      "/usr/local/lib/python3.5/dist-packages/keras/models.py:939: UserWarning: The `nb_epoch` argument in `fit` has been renamed `epochs`.\n",
      "  warnings.warn('The `nb_epoch` argument in `fit` '\n"
     ]
    },
    {
     "name": "stdout",
     "output_type": "stream",
     "text": [
      "Epoch 1/20\n",
      "19906/19906 [==============================] - 804s 40ms/step - loss: 0.8199 - acc: 0.5428\n",
      "Epoch 2/20\n",
      " 1024/19906 [>.............................] - ETA: 9:08 - loss: 0.7377 - acc: 0.5703"
     ]
    }
   ],
   "source": [
    "epochs = 20\n",
    "batch_size = 512\n",
    "\n",
    "classifier.fit(\n",
    "                train_x, train_y, \n",
    "                nb_epoch=epochs, \n",
    "                batch_size=batch_size\n",
    "            )"
   ]
  },
  {
   "cell_type": "code",
   "execution_count": null,
   "metadata": {
    "collapsed": true
   },
   "outputs": [],
   "source": [
    "pred = classifier.predict_classes(test_x)"
   ]
  },
  {
   "cell_type": "code",
   "execution_count": null,
   "metadata": {
    "collapsed": true
   },
   "outputs": [],
   "source": [
    "test['Class']=1"
   ]
  },
  {
   "cell_type": "code",
   "execution_count": null,
   "metadata": {
    "collapsed": true
   },
   "outputs": [],
   "source": [
    "for i in test.index:\n",
    "    test['Class'][i]=lb.inverse_transform(pred[i])"
   ]
  },
  {
   "cell_type": "code",
   "execution_count": null,
   "metadata": {
    "collapsed": true
   },
   "outputs": [],
   "source": [
    "test = test.reindex_axis(sorted(test.columns), axis=1)\n",
    "test.to_csv('two1.csv')"
   ]
  },
  {
   "cell_type": "code",
   "execution_count": null,
   "metadata": {
    "collapsed": true
   },
   "outputs": [],
   "source": []
  },
  {
   "cell_type": "code",
   "execution_count": null,
   "metadata": {
    "collapsed": true
   },
   "outputs": [],
   "source": []
  },
  {
   "cell_type": "code",
   "execution_count": null,
   "metadata": {
    "collapsed": true
   },
   "outputs": [],
   "source": []
  }
 ],
 "metadata": {
  "kernelspec": {
   "display_name": "Python 3",
   "language": "python",
   "name": "python3"
  },
  "language_info": {
   "codemirror_mode": {
    "name": "ipython",
    "version": 3
   },
   "file_extension": ".py",
   "mimetype": "text/x-python",
   "name": "python",
   "nbconvert_exporter": "python",
   "pygments_lexer": "ipython3",
   "version": "3.5.2"
  }
 },
 "nbformat": 4,
 "nbformat_minor": 2
}
